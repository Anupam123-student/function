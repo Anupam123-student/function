{
  "nbformat": 4,
  "nbformat_minor": 0,
  "metadata": {
    "colab": {
      "provenance": []
    },
    "kernelspec": {
      "name": "python3",
      "display_name": "Python 3"
    },
    "language_info": {
      "name": "python"
    }
  },
  "cells": [
    {
      "cell_type": "code",
      "execution_count": null,
      "metadata": {
        "id": "vLjTl8yVLNzX"
      },
      "outputs": [],
      "source": []
    },
    {
      "cell_type": "markdown",
      "source": [
        "fdjiufdigjfdifjdijakdfidji\n",
        "dkjcdfjxdkczjvidjkxjzl\n",
        "dkjfiufdskjdkzxjckzcxkl\n",
        "kzcvdzjckzjxcjkx\n",
        "xckvdzvkcxz cxjvk\n",
        "   cxvjkzxjcvnxzk\n",
        "   -  xcvzckjvkcxzkvkzjjxcvkvv\n",
        "      cxvjzcvkjcxkv\n",
        "      cvxzkjckvck\n",
        "   -  kcxvjcxzjvijcxkv\n",
        "   zkxcjvjlkczxvjz"
      ],
      "metadata": {
        "id": "39ckxPqLLO-T"
      }
    }
  ]
}